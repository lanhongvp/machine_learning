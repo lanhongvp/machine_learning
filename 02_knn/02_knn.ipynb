{
 "cells": [
  {
   "cell_type": "code",
   "execution_count": 2,
   "metadata": {},
   "outputs": [
    {
     "ename": "SyntaxError",
     "evalue": "invalid syntax (<ipython-input-2-d4dc23702865>, line 15)",
     "output_type": "error",
     "traceback": [
      "\u001b[1;36m  File \u001b[1;32m\"<ipython-input-2-d4dc23702865>\"\u001b[1;36m, line \u001b[1;32m15\u001b[0m\n\u001b[1;33m    self.\u001b[0m\n\u001b[1;37m         ^\u001b[0m\n\u001b[1;31mSyntaxError\u001b[0m\u001b[1;31m:\u001b[0m invalid syntax\n"
     ]
    }
   ],
   "source": [
    "import numpy as np\n",
    "\n",
    "class Node:\n",
    "    def __init__(self):\n",
    "        self.location\n",
    "        self.left\n",
    "        self.right\n",
    "\n",
    "class KDTree:\n",
    "    def __init__(self, node_list, depth):\n",
    "        self.root_node = []\n",
    "        self.depth = depth\n",
    "        self.node_num = len(node_list)\n",
    "        for i in range(self.node_num):\n",
    "            self.\n",
    "        # sort the list\n",
    "        node_list.sort()\n",
    "        print(node_list)\n",
    "        \n",
    "if __name__ == '__main__':\n",
    "    node_list = [[2,3],[5,4],[9,6],[4,7],[8,1],[7,2]]\n",
    "    kd_tree = KDTree(node_list, 2)"
   ]
  },
  {
   "cell_type": "code",
   "execution_count": null,
   "metadata": {},
   "outputs": [],
   "source": []
  }
 ],
 "metadata": {
  "kernelspec": {
   "display_name": "Python 3",
   "language": "python",
   "name": "python3"
  },
  "language_info": {
   "codemirror_mode": {
    "name": "ipython",
    "version": 3
   },
   "file_extension": ".py",
   "mimetype": "text/x-python",
   "name": "python",
   "nbconvert_exporter": "python",
   "pygments_lexer": "ipython3",
   "version": "3.6.6"
  }
 },
 "nbformat": 4,
 "nbformat_minor": 2
}
