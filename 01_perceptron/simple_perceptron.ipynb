{
 "cells": [
  {
   "cell_type": "code",
   "execution_count": 81,
   "metadata": {},
   "outputs": [
    {
     "name": "stdout",
     "output_type": "stream",
     "text": [
      "Populating the interactive namespace from numpy and matplotlib\n"
     ]
    }
   ],
   "source": [
    "import pylab as pl\n",
    "import numpy as np\n",
    "import matplotlib.cm as cm\n",
    "import matplotlib.pyplot as plt\n",
    "# import sklearn.cross_validation as skcross\n",
    "%pylab inline --no-import-all\n",
    "from random import randint\n",
    "\n",
    "np.set_printoptions(precision=5, suppress=True)\n",
    "\n"
   ]
  },
  {
   "cell_type": "code",
   "execution_count": 91,
   "metadata": {},
   "outputs": [],
   "source": [
    "gradient = 2\n",
    "offset   = 10\n",
    "point_num = 100\n",
    "train_num = 50000"
   ]
  },
  {
   "cell_type": "code",
   "execution_count": 92,
   "metadata": {},
   "outputs": [
    {
     "name": "stdout",
     "output_type": "stream",
     "text": [
      "(20,)\n",
      "[ 7.       4.42105  6.84211  3.26316  8.68421 17.10526  7.52632  9.94737\n",
      " 22.36842 17.78947 25.21053 25.63158 20.05263  9.47368 18.89474 25.31579\n",
      " 17.73684 19.15789 16.57895 16.     ]\n"
     ]
    }
   ],
   "source": [
    "count = 20\n",
    "x1 = np.linspace(1, 5, count)\n",
    "# range(*x1.shape)\n",
    "x2 = gradient*x1 + np.random.randint(-10,10,x1.shape[0])+offset\n",
    "print(x2.shape)\n",
    "print(x2)"
   ]
  },
  {
   "cell_type": "code",
   "execution_count": 93,
   "metadata": {},
   "outputs": [
    {
     "name": "stdout",
     "output_type": "stream",
     "text": [
      "shape and type of x\n",
      " (100,) <class 'numpy.ndarray'>\n",
      "shape and type of y\n",
      " (100,) <class 'numpy.ndarray'>\n",
      "result\n",
      " (100,) <class 'numpy.ndarray'>\n",
      "train_data\n",
      " (100, 2) <class 'numpy.ndarray'>\n"
     ]
    }
   ],
   "source": [
    "def GenerateRandomData(count, gradient, offset):\n",
    "    x1 = np.linspace(1, 5, count)\n",
    "    x2 = gradient*x1 + np.random.randint(-10,10,x1.shape[0])+offset\n",
    "    dataset = []\n",
    "    result = []\n",
    "    for i in range(*x1.shape):\n",
    "        dataset.append([x1[i], x2[i]])\n",
    "        real_value = gradient*x1[i]+offset\n",
    "        if real_value > x2[i]:\n",
    "            result.append(-1)\n",
    "        else:\n",
    "            result.append(1)\n",
    "    return x1,x2,np.array(result),np.array(dataset)\n",
    "\n",
    "x, y, result, train_data = GenerateRandomData(point_num, gradient, offset)\n",
    "x_t, y_t, test_real_result, test_data =  GenerateRandomData(100, gradient, offset)\n",
    "\n",
    "print('shape and type of x\\n',np.shape(x),type(x))\n",
    "print('shape and type of y\\n',np.shape(y),type(y))\n",
    "print('result\\n',np.shape(result),type(result))\n",
    "print('train_data\\n',np.shape(train_data),type(train_data))"
   ]
  },
  {
   "cell_type": "code",
   "execution_count": 94,
   "metadata": {},
   "outputs": [
    {
     "name": "stdout",
     "output_type": "stream",
     "text": [
      "x\n",
      " [1.      1.0404  1.08081 1.12121 1.16162 1.20202 1.24242 1.28283 1.32323\n",
      " 1.36364 1.40404 1.44444 1.48485 1.52525 1.56566 1.60606 1.64646 1.68687\n",
      " 1.72727 1.76768 1.80808 1.84848 1.88889 1.92929 1.9697  2.0101  2.05051\n",
      " 2.09091 2.13131 2.17172 2.21212 2.25253 2.29293 2.33333 2.37374 2.41414\n",
      " 2.45455 2.49495 2.53535 2.57576 2.61616 2.65657 2.69697 2.73737 2.77778\n",
      " 2.81818 2.85859 2.89899 2.93939 2.9798  3.0202  3.06061 3.10101 3.14141\n",
      " 3.18182 3.22222 3.26263 3.30303 3.34343 3.38384 3.42424 3.46465 3.50505\n",
      " 3.54545 3.58586 3.62626 3.66667 3.70707 3.74747 3.78788 3.82828 3.86869\n",
      " 3.90909 3.94949 3.9899  4.0303  4.07071 4.11111 4.15152 4.19192 4.23232\n",
      " 4.27273 4.31313 4.35354 4.39394 4.43434 4.47475 4.51515 4.55556 4.59596\n",
      " 4.63636 4.67677 4.71717 4.75758 4.79798 4.83838 4.87879 4.91919 4.9596\n",
      " 5.     ]\n",
      "y\n",
      " [ 2.       2.08081 17.16162 11.24242 14.32323  9.40404  7.48485  4.56566\n",
      " 17.64646  9.72727  4.80808  6.88889  2.9697  12.05051 16.13131 13.21212\n",
      " 14.29293  3.37374 22.45455  6.53535 12.61616 12.69697  8.77778  4.85859\n",
      " 10.93939 15.0202  19.10101  5.18182 13.26263 12.34343  8.42424  6.50505\n",
      "  6.58586  6.66667 20.74747 22.82828  9.90909 23.9899  20.07071 14.15152\n",
      "  9.23232 22.31313 14.39394 20.47475  8.55556  7.63636  9.71717 17.79798\n",
      " 12.87879  7.9596  20.0404  13.12121 21.20202 13.28283 24.36364 19.44444\n",
      "  6.52525 24.60606 25.68687 13.76768 10.84848 20.92929 19.0101  26.09091\n",
      " 19.17172  9.25253 12.33333 16.41414 24.49495 19.57576 12.65657 24.73737\n",
      " 21.81818 13.89899  9.9798  16.06061 10.14141 11.22222  9.30303 18.38384\n",
      " 11.46465  9.54545 17.62626 12.70707 15.78788 14.86869 11.94949 10.0303\n",
      " 22.11111 10.19192 17.27273 25.35354 10.43434 13.51515 11.59596 17.67677\n",
      " 25.75758 26.83838 23.91919 29.     ]\n",
      "result\n",
      " [-1 -1  1 -1  1 -1 -1 -1  1 -1 -1 -1 -1 -1  1  1  1 -1  1 -1 -1 -1 -1 -1\n",
      " -1  1  1 -1 -1 -1 -1 -1 -1 -1  1  1 -1  1  1 -1 -1  1 -1  1 -1 -1 -1  1\n",
      " -1 -1  1 -1  1 -1  1  1 -1  1  1 -1 -1  1  1  1  1 -1 -1 -1  1  1 -1  1\n",
      "  1 -1 -1 -1 -1 -1 -1  1 -1 -1 -1 -1 -1 -1 -1 -1  1 -1 -1  1 -1 -1 -1 -1\n",
      "  1  1  1  1]\n",
      "train_data\n",
      " [[ 1.       2.     ]\n",
      " [ 1.0404   2.08081]\n",
      " [ 1.08081 17.16162]\n",
      " [ 1.12121 11.24242]\n",
      " [ 1.16162 14.32323]\n",
      " [ 1.20202  9.40404]\n",
      " [ 1.24242  7.48485]\n",
      " [ 1.28283  4.56566]\n",
      " [ 1.32323 17.64646]\n",
      " [ 1.36364  9.72727]\n",
      " [ 1.40404  4.80808]\n",
      " [ 1.44444  6.88889]\n",
      " [ 1.48485  2.9697 ]\n",
      " [ 1.52525 12.05051]\n",
      " [ 1.56566 16.13131]\n",
      " [ 1.60606 13.21212]\n",
      " [ 1.64646 14.29293]\n",
      " [ 1.68687  3.37374]\n",
      " [ 1.72727 22.45455]\n",
      " [ 1.76768  6.53535]\n",
      " [ 1.80808 12.61616]\n",
      " [ 1.84848 12.69697]\n",
      " [ 1.88889  8.77778]\n",
      " [ 1.92929  4.85859]\n",
      " [ 1.9697  10.93939]\n",
      " [ 2.0101  15.0202 ]\n",
      " [ 2.05051 19.10101]\n",
      " [ 2.09091  5.18182]\n",
      " [ 2.13131 13.26263]\n",
      " [ 2.17172 12.34343]\n",
      " [ 2.21212  8.42424]\n",
      " [ 2.25253  6.50505]\n",
      " [ 2.29293  6.58586]\n",
      " [ 2.33333  6.66667]\n",
      " [ 2.37374 20.74747]\n",
      " [ 2.41414 22.82828]\n",
      " [ 2.45455  9.90909]\n",
      " [ 2.49495 23.9899 ]\n",
      " [ 2.53535 20.07071]\n",
      " [ 2.57576 14.15152]\n",
      " [ 2.61616  9.23232]\n",
      " [ 2.65657 22.31313]\n",
      " [ 2.69697 14.39394]\n",
      " [ 2.73737 20.47475]\n",
      " [ 2.77778  8.55556]\n",
      " [ 2.81818  7.63636]\n",
      " [ 2.85859  9.71717]\n",
      " [ 2.89899 17.79798]\n",
      " [ 2.93939 12.87879]\n",
      " [ 2.9798   7.9596 ]\n",
      " [ 3.0202  20.0404 ]\n",
      " [ 3.06061 13.12121]\n",
      " [ 3.10101 21.20202]\n",
      " [ 3.14141 13.28283]\n",
      " [ 3.18182 24.36364]\n",
      " [ 3.22222 19.44444]\n",
      " [ 3.26263  6.52525]\n",
      " [ 3.30303 24.60606]\n",
      " [ 3.34343 25.68687]\n",
      " [ 3.38384 13.76768]\n",
      " [ 3.42424 10.84848]\n",
      " [ 3.46465 20.92929]\n",
      " [ 3.50505 19.0101 ]\n",
      " [ 3.54545 26.09091]\n",
      " [ 3.58586 19.17172]\n",
      " [ 3.62626  9.25253]\n",
      " [ 3.66667 12.33333]\n",
      " [ 3.70707 16.41414]\n",
      " [ 3.74747 24.49495]\n",
      " [ 3.78788 19.57576]\n",
      " [ 3.82828 12.65657]\n",
      " [ 3.86869 24.73737]\n",
      " [ 3.90909 21.81818]\n",
      " [ 3.94949 13.89899]\n",
      " [ 3.9899   9.9798 ]\n",
      " [ 4.0303  16.06061]\n",
      " [ 4.07071 10.14141]\n",
      " [ 4.11111 11.22222]\n",
      " [ 4.15152  9.30303]\n",
      " [ 4.19192 18.38384]\n",
      " [ 4.23232 11.46465]\n",
      " [ 4.27273  9.54545]\n",
      " [ 4.31313 17.62626]\n",
      " [ 4.35354 12.70707]\n",
      " [ 4.39394 15.78788]\n",
      " [ 4.43434 14.86869]\n",
      " [ 4.47475 11.94949]\n",
      " [ 4.51515 10.0303 ]\n",
      " [ 4.55556 22.11111]\n",
      " [ 4.59596 10.19192]\n",
      " [ 4.63636 17.27273]\n",
      " [ 4.67677 25.35354]\n",
      " [ 4.71717 10.43434]\n",
      " [ 4.75758 13.51515]\n",
      " [ 4.79798 11.59596]\n",
      " [ 4.83838 17.67677]\n",
      " [ 4.87879 25.75758]\n",
      " [ 4.91919 26.83838]\n",
      " [ 4.9596  23.91919]\n",
      " [ 5.      29.     ]]\n"
     ]
    }
   ],
   "source": [
    "print('x\\n',x)\n",
    "print('y\\n',y)\n",
    "print('result\\n',result)\n",
    "print('train_data\\n',train_data)"
   ]
  },
  {
   "cell_type": "code",
   "execution_count": 95,
   "metadata": {},
   "outputs": [],
   "source": [
    "def pos_neg_point(x,y,result):\n",
    "    pos_x = []\n",
    "    pos_y = []\n",
    "    neg_x = []\n",
    "    neg_y = []\n",
    "#     result = result.squeeze()\n",
    "#     print(result)\n",
    "    for i in range(len(result)):\n",
    "        if result[i]==-1:\n",
    "            neg_x.append(x[i])\n",
    "            neg_y.append(y[i])\n",
    "        else:\n",
    "            pos_x.append(x[i])\n",
    "            pos_y.append(y[i])\n",
    "    return pos_x,pos_y,neg_x,neg_y\n",
    "\n",
    "pos_x,pos_y,neg_x,neg_y = pos_neg_point(x,y,result)        "
   ]
  },
  {
   "cell_type": "code",
   "execution_count": 96,
   "metadata": {},
   "outputs": [],
   "source": [
    "class SimplePerceptron:\n",
    "    # eta means the learning rate\n",
    "    def __init__(self, train_data = [], real_result = [], eta = 1):\n",
    "        self.w   =   np.zeros([1, train_data.shape[1]], int)\n",
    "        self.b   =   0\n",
    "        self.eta =   eta\n",
    "        self.train_data   = train_data\n",
    "        self.real_result  = real_result\n",
    "   \n",
    "    def nomalize(self, x):\n",
    "        if x > 0 :\n",
    "            return 1\n",
    "        else :\n",
    "            return -1\n",
    "    \n",
    "    def model(self, x):\n",
    "        # Here are matrix dot multiply get one value\n",
    "        y = np.dot(x, self.w.T) + self.b\n",
    "#         print('value of y\\n',y)\n",
    "        # Use sign to nomalize the result\n",
    "        predict_v = self.nomalize(y)\n",
    "#         print('value of predict_v',predict_v)\n",
    "        return predict_v, y\n",
    "    \n",
    "    def update(self, x, y):\n",
    "        # w = w + n*y_i*x_i\n",
    "        self.w = self.w + self.eta*y*x\n",
    "        # b = b + n*y_i\n",
    "        self.b = self.b + self.eta*y\n",
    "    \n",
    "    def loss(slef, fx, y):\n",
    "        return fx.astype(int)*y\n",
    "\n",
    "    def train(self, count):\n",
    "        update_count = 0\n",
    "        while count > 0:\n",
    "            # count--\n",
    "            count = count - 1\n",
    "            if train_data.shape[0] <= 0:\n",
    "                print(\"exception exit\")\n",
    "                break\n",
    "            # random select one train data\n",
    "            index = randint(0, train_data.shape[0]-1)\n",
    "            x = self.train_data[index]\n",
    "            y = self.real_result.T[index]\n",
    "            # wx+b\n",
    "            predict_v, linear_y_v = self.model(x)\n",
    "            # y_i*(wx+b) > 0, the classify is correct, else it is wrong\n",
    "            if self.loss(y, linear_y_v) > 0:\n",
    "                continue\n",
    "            update_count = update_count + 1\n",
    "            self.update(x, y)\n",
    "        print(\"update count: \", update_count)\n",
    "        pass\n",
    "    \n",
    "    def verify(self, verify_data, verify_result):\n",
    "        size = verify_data.shape[0]\n",
    "        failed_count = 0\n",
    "        if size <= 0:\n",
    "            pass\n",
    "        for i in range(size):\n",
    "            x = verify_data[i]\n",
    "            y = verify_result.T[i]\n",
    "            if self.loss(y, self.model(x)[1]) > 0:\n",
    "                continue\n",
    "            failed_count = failed_count + 1\n",
    "        success_rate = (1.0 - (float(failed_count)/size))*100\n",
    "        print(\"Success Rate: \", success_rate, \"%\")\n",
    "        print(\"All input: \", size, \" failed_count: \", failed_count)\n",
    "\n",
    "    def predict(self, predict_data):\n",
    "        size = len(predict_data)\n",
    "        result = []\n",
    "        if size <= 0:\n",
    "            pass\n",
    "        for i in range(size):\n",
    "            x = verify_data[i]\n",
    "            y = verify_result.T[i]\n",
    "            result.append(self.model(x)[0])\n",
    "        return result"
   ]
  },
  {
   "cell_type": "code",
   "execution_count": 97,
   "metadata": {},
   "outputs": [
    {
     "name": "stdout",
     "output_type": "stream",
     "text": [
      "update count:  2485\n",
      "Success Rate:  100.0 %\n",
      "All input:  100  failed_count:  0\n",
      "T1: w: [[-128.25253   56.49495]]  b: -499\n"
     ]
    }
   ],
   "source": [
    "perceptron = SimplePerceptron(train_data, result)\n",
    "perceptron.train(train_num)\n",
    "perceptron.verify(test_data, test_real_result)\n",
    "print(\"T1: w:\", perceptron.w,\" b:\", perceptron.b)"
   ]
  },
  {
   "cell_type": "code",
   "execution_count": 98,
   "metadata": {},
   "outputs": [
    {
     "data": {
      "image/png": "[encoded data removed]",
      "text/plain": [
       "<Figure size 432x288 with 1 Axes>"
      ]
     },
     "metadata": {
      "needs_background": "light"
     },
     "output_type": "display_data"
    }
   ],
   "source": [
    "# Draw the figure\n",
    "# 1. draw the (x,y) points\n",
    "plt.scatter(pos_x, pos_y,color='red')\n",
    "plt.scatter(neg_x, neg_y,color='blue')\n",
    "# plt.plot(x_t, y_t, \"+\")\n",
    "# 2. draw y=gradient*x+offset line\n",
    "plt.plot(x,x.dot(gradient)+offset, color=\"red\")\n",
    "# 3. draw the line w_1*x_1 + w_2*x_2 + b = 0\n",
    "plt.plot(x, -(x.dot(float(perceptron.w.T[0]))+float(perceptron.b))/float(perceptron.w.T[1])\n",
    "         , color='green')\n",
    "plt.show()"
   ]
  },
  {
   "cell_type": "code",
   "execution_count": 33,
   "metadata": {},
   "outputs": [
    {
     "data": {
      "image/png": "[encoded data removed]",
      "text/plain": [
       "<Figure size 432x288 with 1 Axes>"
      ]
     },
     "metadata": {},
     "output_type": "display_data"
    }
   ],
   "source": [
    "# Draw the figure\n",
    "# 1. draw the (x,y) points\n",
    "plt.plot(x, y, \"*\", color='blue')\n",
    "# plt.plot(x_t, y_t, \"+\")\n",
    "# 2. draw y=gradient*x+offset line\n",
    "plt.plot(x,x.dot(gradient)+offset, color=\"red\")\n",
    "# 3. draw the line w_1*x_1 + w_2*x_2 + b = 0\n",
    "plt.plot(x, -(x.dot(float(perceptron.w.T[0]))+float(perceptron.b))/float(perceptron.w.T[1])\n",
    "         , color='green')\n",
    "plt.show()"
   ]
  },
  {
   "cell_type": "code",
   "execution_count": null,
   "metadata": {},
   "outputs": [],
   "source": [
    "pl.scatter(train_data[y==0, 0], X[y==0, 1], c='r')"
   ]
  },
  {
   "cell_type": "code",
   "execution_count": 6,
   "metadata": {},
   "outputs": [
    {
     "data": {
      "text/plain": [
       "<matplotlib.collections.PathCollection at 0x11a7f6cc0>"
      ]
     },
     "execution_count": 6,
     "metadata": {},
     "output_type": "execute_result"
    },
    {
     "data": {
      "image/png": "[encoded data removed]",
      "text/plain": [
       "<Figure size 432x288 with 1 Axes>"
      ]
     },
     "metadata": {},
     "output_type": "display_data"
    }
   ],
   "source": [
    "pl.scatter(X[y==0, 0], X[y==0, 1], c='r')\n",
    "pl.scatter(X[y==1, 0], X[y==1, 1], c='b')"
   ]
  },
  {
   "cell_type": "code",
   "execution_count": null,
   "metadata": {},
   "outputs": [],
   "source": [
    "# activation functions\n",
    "def sign(X):\n",
    "    if X > 0:\n",
    "        return 1"
   ]
  }
 ],
 "metadata": {
  "kernelspec": {
   "display_name": "Python 3",
   "language": "python",
   "name": "python3"
  },
  "language_info": {
   "codemirror_mode": {
    "name": "ipython",
    "version": 3
   },
   "file_extension": ".py",
   "mimetype": "text/x-python",
   "name": "python",
   "nbconvert_exporter": "python",
   "pygments_lexer": "ipython3",
   "version": "3.6.6"
  }
 },
 "nbformat": 4,
 "nbformat_minor": 2
}
