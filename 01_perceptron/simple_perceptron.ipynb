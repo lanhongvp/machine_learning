{
 "cells": [
  {
   "cell_type": "code",
   "execution_count": 29,
   "metadata": {},
   "outputs": [],
   "source": [
    "gradient = 2\n",
    "offset   = 10\n",
    "point_num = 20\n",
    "train_num = 50000"
   ]
  },
  {
   "cell_type": "code",
   "execution_count": 30,
   "metadata": {},
   "outputs": [
    {
     "name": "stdout",
     "output_type": "stream",
     "text": [
      "Populating the interactive namespace from numpy and matplotlib\n",
      "x\n",
      " (20,)\n",
      "y\n",
      " (20,)\n",
      "result\n",
      " (1, 20)\n",
      "train_data\n",
      " (20, 2)\n"
     ]
    }
   ],
   "source": [
    "import pylab as pl\n",
    "import numpy as np\n",
    "import matplotlib.cm as cm\n",
    "import matplotlib.pyplot as plt\n",
    "import sklearn.cross_validation as skcross\n",
    "%pylab inline --no-import-all\n",
    "from random import randint\n",
    "\n",
    "np.set_printoptions(precision=5, suppress=True)\n",
    "\n",
    "def GenerateRandomData(count, gradient, offset):\n",
    "    x1 = np.linspace(1, 5, count)\n",
    "    x2 = gradient*x1 + np.random.randint(-10,10,x1.shape[0])+offset\n",
    "    dataset = []\n",
    "    y = []\n",
    "    for i in range(*x1.shape):\n",
    "        dataset.append([x1[i], x2[i]])\n",
    "        real_value = gradient*x1[i]+offset\n",
    "        if real_value > x2[i]:\n",
    "            y.append(-1)\n",
    "        else:\n",
    "            y.append(1)\n",
    "    return x1,x2,np.mat(y),np.mat(dataset)\n",
    "\n",
    "x, y, result, train_data = GenerateRandomData(point_num, gradient, offset)\n",
    "x_t, y_t, test_real_result, test_data =  GenerateRandomData(100, gradient, offset)\n",
    "\n",
    "print('x\\n',np.shape(x))\n",
    "print('y\\n',np.shape(y))\n",
    "print('result\\n',np.shape(result))\n",
    "print('train_data\\n',np.shape(train_data))"
   ]
  },
  {
   "cell_type": "code",
   "execution_count": 31,
   "metadata": {},
   "outputs": [],
   "source": [
    "class SimplePerceptron:\n",
    "    def __init__(self, train_data = [], real_result = [], eta = 1):\n",
    "        self.w   =   np.zeros([1, train_data.shape[1]], int)\n",
    "        self.b   =   0\n",
    "        self.eta =   eta\n",
    "        self.train_data   = train_data\n",
    "        self.real_result  = real_result\n",
    "    def nomalize(self, x):\n",
    "        if x > 0 :\n",
    "            return 1\n",
    "        else :\n",
    "            return -1\n",
    "    def model(self, x):\n",
    "        # Here are matrix dot multiply get one value\n",
    "        y = np.dot(x, self.w.T) + self.b\n",
    "        # Use sign to nomalize the result\n",
    "        predict_v = self.nomalize(y)\n",
    "        return predict_v, y\n",
    "    def update(self, x, y):\n",
    "        # w = w + n*y_i*x_i\n",
    "        self.w = self.w + self.eta*y*x\n",
    "        # b = b + n*y_i\n",
    "        self.b = self.b + self.eta*y\n",
    "    def loss(slef, fx, y):\n",
    "        return fx.astype(int)*y\n",
    "\n",
    "    def train(self, count):\n",
    "        update_count = 0\n",
    "        while count > 0:\n",
    "            # count--\n",
    "            count = count - 1\n",
    "\n",
    "            if train_data.shape[0] <= 0:\n",
    "                print(\"exception exit\")\n",
    "                break\n",
    "            # random select one train data\n",
    "            index = randint(0, train_data.shape[0]-1)\n",
    "            x = self.train_data[index]\n",
    "            y = self.real_result.T[index]\n",
    "            # wx+b\n",
    "            predict_v, linear_y_v = self.model(x)\n",
    "            # y_i*(wx+b) > 0, the classify is correct, else it's error\n",
    "            if self.loss(y, linear_y_v) > 0:\n",
    "                continue\n",
    "            update_count = update_count + 1\n",
    "            self.update(x, y)\n",
    "        print(\"update count: \", update_count)\n",
    "        pass\n",
    "    def verify(self, verify_data, verify_result):\n",
    "        size = verify_data.shape[0]\n",
    "        failed_count = 0\n",
    "        if size <= 0:\n",
    "            pass\n",
    "        for i in range(size):\n",
    "            x = verify_data[i]\n",
    "            y = verify_result.T[i]\n",
    "            if self.loss(y, self.model(x)[1]) > 0:\n",
    "                continue\n",
    "            failed_count = failed_count + 1\n",
    "        success_rate = (1.0 - (float(failed_count)/size))*100\n",
    "        print(\"Success Rate: \", success_rate, \"%\")\n",
    "        print(\"All input: \", size, \" failed_count: \", failed_count)\n",
    "\n",
    "    def predict(self, predict_data):\n",
    "        size = len(predict_data)\n",
    "        result = []\n",
    "        if size <= 0:\n",
    "            pass\n",
    "        for i in range(size):\n",
    "            x = verify_data[i]\n",
    "            y = verify_result.T[i]\n",
    "            result.append(self.model(x)[0])\n",
    "        return result"
   ]
  },
  {
   "cell_type": "code",
   "execution_count": 32,
   "metadata": {},
   "outputs": [
    {
     "name": "stdout",
     "output_type": "stream",
     "text": [
      "update count:  1176\n",
      "Success Rate:  97.0 %\n",
      "All input:  100  failed_count:  3\n",
      "T1: w: [[-100.21053   36.57895]]  b: [[-292]]\n"
     ]
    }
   ],
   "source": [
    "perceptron = SimplePerceptron(train_data, result)\n",
    "perceptron.train(train_num)\n",
    "perceptron.verify(test_data, test_real_result)\n",
    "print(\"T1: w:\", perceptron.w,\" b:\", perceptron.b)"
   ]
  },
  {
   "cell_type": "code",
   "execution_count": 33,
   "metadata": {},
   "outputs": [
    {
     "data": {
      "image/png": "[encoded data removed]",
      "text/plain": [
       "<Figure size 432x288 with 1 Axes>"
      ]
     },
     "metadata": {},
     "output_type": "display_data"
    }
   ],
   "source": [
    "# Draw the figure\n",
    "# 1. draw the (x,y) points\n",
    "plt.plot(x, y, \"*\", color='blue')\n",
    "# plt.plot(x_t, y_t, \"+\")\n",
    "# 2. draw y=gradient*x+offset line\n",
    "plt.plot(x,x.dot(gradient)+offset, color=\"red\")\n",
    "# 3. draw the line w_1*x_1 + w_2*x_2 + b = 0\n",
    "plt.plot(x, -(x.dot(float(perceptron.w.T[0]))+float(perceptron.b))/float(perceptron.w.T[1])\n",
    "         , color='green')\n",
    "plt.show()"
   ]
  },
  {
   "cell_type": "code",
   "execution_count": 6,
   "metadata": {},
   "outputs": [
    {
     "data": {
      "text/plain": [
       "<matplotlib.collections.PathCollection at 0x11a7f6cc0>"
      ]
     },
     "execution_count": 6,
     "metadata": {},
     "output_type": "execute_result"
    },
    {
     "data": {
      "image/png": "[encoded data removed]",
      "text/plain": [
       "<Figure size 432x288 with 1 Axes>"
      ]
     },
     "metadata": {},
     "output_type": "display_data"
    }
   ],
   "source": [
    "pl.scatter(X[y==0, 0], X[y==0, 1], c='r')\n",
    "pl.scatter(X[y==1, 0], X[y==1, 1], c='b')"
   ]
  },
  {
   "cell_type": "code",
   "execution_count": null,
   "metadata": {},
   "outputs": [],
   "source": [
    "# activation functions\n",
    "def sign(X):\n",
    "    if X > 0:\n",
    "        return 1"
   ]
  }
 ],
 "metadata": {
  "kernelspec": {
   "display_name": "Python 3",
   "language": "python",
   "name": "python3"
  },
  "language_info": {
   "codemirror_mode": {
    "name": "ipython",
    "version": 3
   },
   "file_extension": ".py",
   "mimetype": "text/x-python",
   "name": "python",
   "nbconvert_exporter": "python",
   "pygments_lexer": "ipython3",
   "version": "3.5.0"
  }
 },
 "nbformat": 4,
 "nbformat_minor": 2
}
